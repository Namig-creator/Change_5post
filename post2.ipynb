{
 "cells": [
  {
   "cell_type": "code",
   "execution_count": 176,
   "metadata": {},
   "outputs": [
    {
     "name": "stdout",
     "output_type": "stream",
     "text": [
      "Populating the interactive namespace from numpy and matplotlib\n"
     ]
    }
   ],
   "source": [
    "import numpy as np\n",
    "import pandas as pd\n",
    "from matplotlib import pyplot as plt\n",
    "from scipy.stats.stats import pearsonr\n",
    "from copy import deepcopy\n",
    "import statsmodels\n",
    "import statsmodels.formula.api as smf\n",
    "import statsmodels.stats.api as sms\n",
    "from statsmodels.graphics.regressionplots import plot_leverage_resid2\n",
    "%pylab inline"
   ]
  },
  {
   "cell_type": "markdown",
   "metadata": {},
   "source": [
    "## Чтение и обработка данных "
   ]
  },
  {
   "cell_type": "code",
   "execution_count": 177,
   "metadata": {},
   "outputs": [
    {
     "data": {
      "text/html": [
       "<div>\n",
       "<style scoped>\n",
       "    .dataframe tbody tr th:only-of-type {\n",
       "        vertical-align: middle;\n",
       "    }\n",
       "\n",
       "    .dataframe tbody tr th {\n",
       "        vertical-align: top;\n",
       "    }\n",
       "\n",
       "    .dataframe thead th {\n",
       "        text-align: right;\n",
       "    }\n",
       "</style>\n",
       "<table border=\"1\" class=\"dataframe\">\n",
       "  <thead>\n",
       "    <tr style=\"text-align: right;\">\n",
       "      <th></th>\n",
       "      <th>Unnamed: 0</th>\n",
       "      <th>ADDRESS</th>\n",
       "      <th>CITY</th>\n",
       "      <th>REGION</th>\n",
       "      <th>Postamat_daily</th>\n",
       "      <th>cashbox_daily</th>\n",
       "      <th>Postamat_trend</th>\n",
       "      <th>cashbox_MAX</th>\n",
       "      <th>cashbox_trend</th>\n",
       "      <th>hh_500</th>\n",
       "      <th>value1</th>\n",
       "      <th>value2</th>\n",
       "      <th>POPULATION</th>\n",
       "      <th>NEAR_Malls</th>\n",
       "      <th>NEAR_Business_centers</th>\n",
       "      <th>NEAR_metro_rjd</th>\n",
       "      <th>NEAR_Stations</th>\n",
       "      <th>macro_salary_avg_yearly</th>\n",
       "      <th>Salary</th>\n",
       "    </tr>\n",
       "  </thead>\n",
       "  <tbody>\n",
       "    <tr>\n",
       "      <td>0</td>\n",
       "      <td>0</td>\n",
       "      <td>г.Калуга, Литейная ул., 25/15</td>\n",
       "      <td>КАЛУГА</td>\n",
       "      <td>Калужская область</td>\n",
       "      <td>NaN</td>\n",
       "      <td>3.3</td>\n",
       "      <td>NaN</td>\n",
       "      <td>13.0</td>\n",
       "      <td>1.0</td>\n",
       "      <td>7696.0</td>\n",
       "      <td>10099</td>\n",
       "      <td>3382</td>\n",
       "      <td>324698</td>\n",
       "      <td>0</td>\n",
       "      <td>0</td>\n",
       "      <td>NaN</td>\n",
       "      <td>остановка</td>\n",
       "      <td>423321</td>\n",
       "      <td>45379</td>\n",
       "    </tr>\n",
       "    <tr>\n",
       "      <td>1</td>\n",
       "      <td>1</td>\n",
       "      <td>г.Калуга, Гагарина ул., 1</td>\n",
       "      <td>КАЛУГА</td>\n",
       "      <td>Калужская область</td>\n",
       "      <td>NaN</td>\n",
       "      <td>NaN</td>\n",
       "      <td>NaN</td>\n",
       "      <td>NaN</td>\n",
       "      <td>NaN</td>\n",
       "      <td>6369.0</td>\n",
       "      <td>10068</td>\n",
       "      <td>3236</td>\n",
       "      <td>324698</td>\n",
       "      <td>1</td>\n",
       "      <td>1</td>\n",
       "      <td>NaN</td>\n",
       "      <td>остановка</td>\n",
       "      <td>423321</td>\n",
       "      <td>45379</td>\n",
       "    </tr>\n",
       "    <tr>\n",
       "      <td>2</td>\n",
       "      <td>2</td>\n",
       "      <td>г.Калуга, Кибальчича ул., 25</td>\n",
       "      <td>КАЛУГА</td>\n",
       "      <td>Калужская область</td>\n",
       "      <td>NaN</td>\n",
       "      <td>3.1</td>\n",
       "      <td>NaN</td>\n",
       "      <td>12.0</td>\n",
       "      <td>1.0</td>\n",
       "      <td>5553.0</td>\n",
       "      <td>10100</td>\n",
       "      <td>3436</td>\n",
       "      <td>324698</td>\n",
       "      <td>1</td>\n",
       "      <td>0</td>\n",
       "      <td>NaN</td>\n",
       "      <td>NaN</td>\n",
       "      <td>423321</td>\n",
       "      <td>45379</td>\n",
       "    </tr>\n",
       "    <tr>\n",
       "      <td>3</td>\n",
       "      <td>3</td>\n",
       "      <td>г.Калуга, Пестеля ул., 60/49</td>\n",
       "      <td>КАЛУГА</td>\n",
       "      <td>Калужская область</td>\n",
       "      <td>3.0</td>\n",
       "      <td>2.2</td>\n",
       "      <td>0.0</td>\n",
       "      <td>12.0</td>\n",
       "      <td>1.0</td>\n",
       "      <td>7162.0</td>\n",
       "      <td>10099</td>\n",
       "      <td>3257</td>\n",
       "      <td>324698</td>\n",
       "      <td>0</td>\n",
       "      <td>0</td>\n",
       "      <td>NaN</td>\n",
       "      <td>NaN</td>\n",
       "      <td>423321</td>\n",
       "      <td>45379</td>\n",
       "    </tr>\n",
       "    <tr>\n",
       "      <td>4</td>\n",
       "      <td>4</td>\n",
       "      <td>г.Калуга, Ленина ул., 81</td>\n",
       "      <td>КАЛУГА</td>\n",
       "      <td>Калужская область</td>\n",
       "      <td>1.0</td>\n",
       "      <td>2.0</td>\n",
       "      <td>0.0</td>\n",
       "      <td>9.0</td>\n",
       "      <td>1.0</td>\n",
       "      <td>6269.0</td>\n",
       "      <td>10096</td>\n",
       "      <td>3195</td>\n",
       "      <td>324698</td>\n",
       "      <td>1</td>\n",
       "      <td>0</td>\n",
       "      <td>NaN</td>\n",
       "      <td>остановка</td>\n",
       "      <td>423321</td>\n",
       "      <td>45379</td>\n",
       "    </tr>\n",
       "  </tbody>\n",
       "</table>\n",
       "</div>"
      ],
      "text/plain": [
       "   Unnamed: 0                        ADDRESS    CITY             REGION  \\\n",
       "0           0  г.Калуга, Литейная ул., 25/15  КАЛУГА  Калужская область   \n",
       "1           1      г.Калуга, Гагарина ул., 1  КАЛУГА  Калужская область   \n",
       "2           2   г.Калуга, Кибальчича ул., 25  КАЛУГА  Калужская область   \n",
       "3           3   г.Калуга, Пестеля ул., 60/49  КАЛУГА  Калужская область   \n",
       "4           4       г.Калуга, Ленина ул., 81  КАЛУГА  Калужская область   \n",
       "\n",
       "   Postamat_daily  cashbox_daily  Postamat_trend  cashbox_MAX  cashbox_trend  \\\n",
       "0             NaN            3.3             NaN         13.0            1.0   \n",
       "1             NaN            NaN             NaN          NaN            NaN   \n",
       "2             NaN            3.1             NaN         12.0            1.0   \n",
       "3             3.0            2.2             0.0         12.0            1.0   \n",
       "4             1.0            2.0             0.0          9.0            1.0   \n",
       "\n",
       "   hh_500  value1  value2  POPULATION  NEAR_Malls  NEAR_Business_centers  \\\n",
       "0  7696.0   10099    3382      324698           0                      0   \n",
       "1  6369.0   10068    3236      324698           1                      1   \n",
       "2  5553.0   10100    3436      324698           1                      0   \n",
       "3  7162.0   10099    3257      324698           0                      0   \n",
       "4  6269.0   10096    3195      324698           1                      0   \n",
       "\n",
       "   NEAR_metro_rjd NEAR_Stations  macro_salary_avg_yearly  Salary  \n",
       "0             NaN     остановка                   423321   45379  \n",
       "1             NaN     остановка                   423321   45379  \n",
       "2             NaN           NaN                   423321   45379  \n",
       "3             NaN           NaN                   423321   45379  \n",
       "4             NaN     остановка                   423321   45379  "
      ]
     },
     "execution_count": 177,
     "metadata": {},
     "output_type": "execute_result"
    }
   ],
   "source": [
    "data = pd.read_excel('data_v02.xlsx')\n",
    "data.head()"
   ]
  },
  {
   "cell_type": "code",
   "execution_count": 178,
   "metadata": {},
   "outputs": [
    {
     "data": {
      "image/png": "[encoded data removed]",
      "text/plain": [
       "<Figure size 432x288 with 1 Axes>"
      ]
     },
     "metadata": {
      "needs_background": "light"
     },
     "output_type": "display_data"
    }
   ],
   "source": [
    "#Подтянули средние зарплаты по округам - данная переменная и производные от нее оказались не эффективны\n",
    "data['Salary'].hist()\n",
    "data['sal_2'] = data['Salary'].apply(lambda x: x**2)"
   ]
  },
  {
   "cell_type": "code",
   "execution_count": 179,
   "metadata": {},
   "outputs": [],
   "source": [
    "# Функции для расчета переменнных dum0 и dum1 - наличие в пунтке выдачи постамата/кассы соответсвенно\n",
    "# Функция для работы с регионом\n",
    "def dum(x):\n",
    "    if str(x) == 'nan':\n",
    "        return 0\n",
    "    else :\n",
    "        return 1 \n",
    "    \n",
    "def sm(x, y):\n",
    "    if str(x) == 'nan' and str(y) != 'nan':\n",
    "        return y\n",
    "    else :\n",
    "        return 1 \n",
    "def reg(x):\n",
    "    if x == 'Калужская область':\n",
    "        return 0 \n",
    "    else :\n",
    "        return 1   "
   ]
  },
  {
   "cell_type": "code",
   "execution_count": 180,
   "metadata": {},
   "outputs": [],
   "source": [
    "data['dum0'] = data['Postamat_daily'].apply(dum)\n",
    "data['dum1'] = data['cashbox_daily'].apply(dum)\n",
    "data['Postamat_daily_filna'] = data['Postamat_daily'].fillna(0)\n",
    "data['cashbox_daily_filna'] = data['cashbox_daily'].fillna(0)"
   ]
  },
  {
   "cell_type": "code",
   "execution_count": 181,
   "metadata": {},
   "outputs": [],
   "source": [
    "# Целевой переменной для линейной регрессии будем считать сумму выдач в постамате и на кассе\n",
    "data['target'] = data['Postamat_daily_filna'] + data['cashbox_daily_filna']"
   ]
  },
  {
   "cell_type": "code",
   "execution_count": 182,
   "metadata": {},
   "outputs": [],
   "source": [
    "# Добавляем дополнительные переменные\n",
    "data['sum_dum'] = data['dum0'] + data['dum1']\n",
    "data['dum_p'] = data['dum0']*data['dum1']\n",
    "data['dum_region'] = data['REGION'].apply(reg)\n",
    "data['station'] = data['NEAR_Stations'].apply(dum)\n",
    "data['rjd'] = data['NEAR_metro_rjd'].apply(dum)"
   ]
  },
  {
   "cell_type": "code",
   "execution_count": 183,
   "metadata": {},
   "outputs": [],
   "source": [
    "# Выделяем действующие пункты выдачи\n",
    "data_exs = data[data['sum_dum'] > 0]"
   ]
  },
  {
   "cell_type": "code",
   "execution_count": 184,
   "metadata": {},
   "outputs": [
    {
     "name": "stderr",
     "output_type": "stream",
     "text": [
      "C:\\ProgramData\\Anaconda3\\lib\\site-packages\\ipykernel_launcher.py:7: SettingWithCopyWarning: \n",
      "A value is trying to be set on a copy of a slice from a DataFrame.\n",
      "Try using .loc[row_indexer,col_indexer] = value instead\n",
      "\n",
      "See the caveats in the documentation: http://pandas.pydata.org/pandas-docs/stable/user_guide/indexing.html#returning-a-view-versus-a-copy\n",
      "  import sys\n"
     ]
    }
   ],
   "source": [
    "# Подтягиваем для каждого пунтка минимально расстояние до соседи (возможность конкуренции между пунктами)\n",
    "rr = np.load('distance_matrix_1.npy')\n",
    "nearest = []\n",
    "for x in rr:\n",
    "    nearest.append(sorted(x)[1])\n",
    "#print(nearest)\n",
    "data_exs['d'] = nearest"
   ]
  },
  {
   "cell_type": "code",
   "execution_count": 185,
   "metadata": {},
   "outputs": [
    {
     "name": "stderr",
     "output_type": "stream",
     "text": [
      "C:\\ProgramData\\Anaconda3\\lib\\site-packages\\ipykernel_launcher.py:9: SettingWithCopyWarning: \n",
      "A value is trying to be set on a copy of a slice from a DataFrame.\n",
      "Try using .loc[row_indexer,col_indexer] = value instead\n",
      "\n",
      "See the caveats in the documentation: http://pandas.pydata.org/pandas-docs/stable/user_guide/indexing.html#returning-a-view-versus-a-copy\n",
      "  if __name__ == '__main__':\n"
     ]
    }
   ],
   "source": [
    "# Подтягиваем флаг наличия соседа в радиусе 500м (такое расстояние оказывается статистически значимым)\n",
    "near3d = []\n",
    "for x in nearest:\n",
    "    if x < 0.5:\n",
    "        near3d.append(1)\n",
    "    else:\n",
    "        near3d.append(0)\n",
    "        \n",
    "data_exs['ff'] = near3d"
   ]
  },
  {
   "cell_type": "code",
   "execution_count": 186,
   "metadata": {},
   "outputs": [],
   "source": [
    "# Выделяем наиболее осмысленные переменные\n",
    "XX = data_exs[['target', 'dum0', 'dum1', 'dum_p', 'dum_region', 'hh_500', 'value1', 'value2', 'NEAR_Malls', 'NEAR_Business_centers',\n",
    "             'rjd', 'station', 'd', 'ff', 'Salary', 'sal_2', 'cashbox_MAX']]"
   ]
  },
  {
   "cell_type": "code",
   "execution_count": 187,
   "metadata": {},
   "outputs": [],
   "source": [
    "df = XX[XX.index != 37] # эта строка выброс (очень большой остаток на ней)"
   ]
  },
  {
   "cell_type": "markdown",
   "metadata": {},
   "source": [
    "## Построение модели"
   ]
  },
  {
   "cell_type": "code",
   "execution_count": 188,
   "metadata": {},
   "outputs": [
    {
     "name": "stdout",
     "output_type": "stream",
     "text": [
      "                            OLS Regression Results                            \n",
      "==============================================================================\n",
      "Dep. Variable:                 target   R-squared:                       0.641\n",
      "Model:                            OLS   Adj. R-squared:                  0.625\n",
      "Method:                 Least Squares   F-statistic:                     39.98\n",
      "Date:                Sun, 01 Dec 2019   Prob (F-statistic):           4.98e-36\n",
      "Time:                        12:33:51   Log-Likelihood:                -246.98\n",
      "No. Observations:                 188   AIC:                             512.0\n",
      "Df Residuals:                     179   BIC:                             541.1\n",
      "Df Model:                           8                                         \n",
      "Covariance Type:            nonrobust                                         \n",
      "=========================================================================================\n",
      "                            coef    std err          t      P>|t|      [0.025      0.975]\n",
      "-----------------------------------------------------------------------------------------\n",
      "Intercept                -3.7614      1.044     -3.604      0.000      -5.821      -1.702\n",
      "dum0                      2.2138      0.187     11.842      0.000       1.845       2.583\n",
      "dum1                      1.0166      0.262      3.875      0.000       0.499       1.534\n",
      "dum_region               -0.4584      0.158     -2.896      0.004      -0.771      -0.146\n",
      "hh_500                    0.0002   4.03e-05      4.620      0.000       0.000       0.000\n",
      "value2                    0.0013      0.000      3.489      0.001       0.001       0.002\n",
      "NEAR_Malls                0.6631      0.216      3.072      0.002       0.237       1.089\n",
      "NEAR_Business_centers     1.1548      0.381      3.034      0.003       0.404       1.906\n",
      "ff                       -0.2881      0.143     -2.019      0.045      -0.570      -0.006\n",
      "==============================================================================\n",
      "Omnibus:                       12.252   Durbin-Watson:                   1.612\n",
      "Prob(Omnibus):                  0.002   Jarque-Bera (JB):               13.083\n",
      "Skew:                           0.551   Prob(JB):                      0.00144\n",
      "Kurtosis:                       3.676   Cond. No.                     7.48e+04\n",
      "==============================================================================\n",
      "\n",
      "Warnings:\n",
      "[1] Standard Errors assume that the covariance matrix of the errors is correctly specified.\n",
      "[2] The condition number is large, 7.48e+04. This might indicate that there are\n",
      "strong multicollinearity or other numerical problems.\n"
     ]
    }
   ],
   "source": [
    "# Строим линейную регрессию, смотрим на статистику\n",
    "m1 = smf.ols('target ~ dum0 + dum1 + dum_region + hh_500 + value2 + NEAR_Malls + NEAR_Business_centers + ff', \n",
    "             data= df)\n",
    "fitted = m1.fit()\n",
    "print (fitted.summary())"
   ]
  },
  {
   "cell_type": "code",
   "execution_count": 189,
   "metadata": {},
   "outputs": [
    {
     "name": "stdout",
     "output_type": "stream",
     "text": [
      "                            OLS Regression Results                            \n",
      "==============================================================================\n",
      "Dep. Variable:            cashbox_MAX   R-squared:                       0.276\n",
      "Model:                            OLS   Adj. R-squared:                  0.235\n",
      "Method:                 Least Squares   F-statistic:                     6.798\n",
      "Date:                Sun, 01 Dec 2019   Prob (F-statistic):           1.51e-07\n",
      "Time:                        12:33:52   Log-Likelihood:                -381.41\n",
      "No. Observations:                 152   AIC:                             780.8\n",
      "Df Residuals:                     143   BIC:                             808.0\n",
      "Df Model:                           8                                         \n",
      "Covariance Type:            nonrobust                                         \n",
      "=========================================================================================\n",
      "                            coef    std err          t      P>|t|      [0.025      0.975]\n",
      "-----------------------------------------------------------------------------------------\n",
      "Intercept                21.8504     47.020      0.465      0.643     -71.094     114.795\n",
      "dum0                      0.4530      0.628      0.722      0.472      -0.788       1.694\n",
      "dum1                     21.8504     47.020      0.465      0.643     -71.094     114.795\n",
      "dum_region               -1.5358      0.567     -2.707      0.008      -2.657      -0.414\n",
      "hh_500                    0.0006      0.000      3.962      0.000       0.000       0.001\n",
      "value2                    0.0034      0.003      1.120      0.264      -0.003       0.009\n",
      "value1                   -0.0048      0.010     -0.470      0.639      -0.025       0.015\n",
      "NEAR_Malls                0.8986      0.860      1.045      0.298      -0.800       2.598\n",
      "NEAR_Business_centers     2.2219      1.405      1.581      0.116      -0.556       5.000\n",
      "ff                       -0.7366      0.533     -1.381      0.169      -1.791       0.317\n",
      "==============================================================================\n",
      "Omnibus:                       30.767   Durbin-Watson:                   1.759\n",
      "Prob(Omnibus):                  0.000   Jarque-Bera (JB):               49.589\n",
      "Skew:                           1.012   Prob(JB):                     1.71e-11\n",
      "Kurtosis:                       4.932   Cond. No.                     1.26e+18\n",
      "==============================================================================\n",
      "\n",
      "Warnings:\n",
      "[1] Standard Errors assume that the covariance matrix of the errors is correctly specified.\n",
      "[2] The smallest eigenvalue is 1.13e-26. This might indicate that there are\n",
      "strong multicollinearity problems or that the design matrix is singular.\n"
     ]
    }
   ],
   "source": [
    "# Смотрим на возможность предсказать cashbox_MAX с целью анализа нехватки кол-ва ячеек постамата - простой линейной регрессии\n",
    "# для этого не хватает\n",
    "m2 = smf.ols('cashbox_MAX ~ dum0 + dum1 + dum_region + hh_500 + value2 + value1 + NEAR_Malls + NEAR_Business_centers + ff',\n",
    "data= df)\n",
    "fitted2 = m2.fit()\n",
    "print (fitted2.summary())"
   ]
  },
  {
   "cell_type": "code",
   "execution_count": 190,
   "metadata": {},
   "outputs": [
    {
     "data": {
      "text/plain": [
       "<Figure size 576x504 with 0 Axes>"
      ]
     },
     "metadata": {},
     "output_type": "display_data"
    },
    {
     "data": {
      "image/png": "[encoded data removed]",
      "text/plain": [
       "<Figure size 576x504 with 1 Axes>"
      ]
     },
     "metadata": {
      "needs_background": "light"
     },
     "output_type": "display_data"
    }
   ],
   "source": [
    "#для остатков\n",
    "plt.figure(figsize(8,7))\n",
    "plot_leverage_resid2(fitted)\n",
    "pylab.show()"
   ]
  },
  {
   "cell_type": "code",
   "execution_count": 191,
   "metadata": {},
   "outputs": [],
   "source": [
    "# Подтягиваем расстояние до ближайшего соседа для всей выборки для оптимизации расположения в будущем\n",
    "rrr = np.load('min_distances.npy')\n",
    "data['d'] = rrr\n",
    "near2d = []\n",
    "for x in rrr:\n",
    "    if x < 0.5:\n",
    "        near2d.append(1)\n",
    "    else:\n",
    "        near2d.append(0)\n",
    "data['ff'] = near2d"
   ]
  },
  {
   "cell_type": "markdown",
   "metadata": {},
   "source": [
    "## Подготовка данных для оптимизации"
   ]
  },
  {
   "cell_type": "code",
   "execution_count": 192,
   "metadata": {},
   "outputs": [],
   "source": [
    "# Подготовка данных для оптимизации - вычитаем dum0 and dum1 чтобы потом уметь добавить/вычесть данный пункт выдачи\n",
    "data['pres_raw'] = fitted.predict(data[['dum0', 'dum1', 'dum_region', 'hh_500', 'value2', 'NEAR_Malls', 'NEAR_Business_centers',\n",
    "                                       'ff']]) \n",
    "data['pres_raw_'] = data['pres_raw'] - fitted.params['dum0'] * data['dum0']  -  fitted.params['dum1'] * data['dum1']"
   ]
  },
  {
   "cell_type": "code",
   "execution_count": 193,
   "metadata": {},
   "outputs": [
    {
     "name": "stderr",
     "output_type": "stream",
     "text": [
      "C:\\ProgramData\\Anaconda3\\lib\\site-packages\\ipykernel_launcher.py:9: SettingWithCopyWarning: \n",
      "A value is trying to be set on a copy of a slice from a DataFrame\n",
      "\n",
      "See the caveats in the documentation: http://pandas.pydata.org/pandas-docs/stable/user_guide/indexing.html#returning-a-view-versus-a-copy\n",
      "  if __name__ == '__main__':\n"
     ]
    }
   ],
   "source": [
    "# Для учета взаимодейтствия ближних точек - учитываем потери из-за налачия соседа для худшей из них дважды, лучшую - оставляем\n",
    "dhy = data[data['ff'] == 1].sort_values(by = 'd')\n",
    "dhy1 = dhy.groupby('d')\n",
    "d1 = pd.DataFrame([],{})\n",
    "d1['pres_raw_'] = dhy1.max().pres_raw_\n",
    "d1['d'] = d1.index\n",
    "d2 = dhy.merge(d1, on = 'pres_raw_', how = 'left')\n",
    "d2['d_y'] = d2['d_y'].fillna(-100)\n",
    "d2['pres_raw_'][d2['d_y'] == -100] = d2['pres_raw_'][d2['d_y'] == -100].apply(lambda x: x + 2*fitted.params['ff'])\n",
    "d2['d'] = d2['d_x']"
   ]
  },
  {
   "cell_type": "code",
   "execution_count": 194,
   "metadata": {},
   "outputs": [
    {
     "name": "stderr",
     "output_type": "stream",
     "text": [
      "C:\\ProgramData\\Anaconda3\\lib\\site-packages\\ipykernel_launcher.py:4: SettingWithCopyWarning: \n",
      "A value is trying to be set on a copy of a slice from a DataFrame\n",
      "\n",
      "See the caveats in the documentation: http://pandas.pydata.org/pandas-docs/stable/user_guide/indexing.html#returning-a-view-versus-a-copy\n",
      "  after removing the cwd from sys.path.\n"
     ]
    }
   ],
   "source": [
    "# Для точек без соседей ничего такого не делаем - подтягиваем из блока выше\n",
    "d3 = data.merge(d2[['d','pres_raw_', 'ADDRESS']], on = ['d', 'ADDRESS'], how = 'left')\n",
    "d3['pres_raw__y'] = d3['pres_raw__y'].fillna(-100)\n",
    "d3['pres_raw__y'][d3['pres_raw__y'] == -100] = d3['pres_raw__x']"
   ]
  },
  {
   "cell_type": "code",
   "execution_count": 195,
   "metadata": {},
   "outputs": [],
   "source": [
    "# получен датасет для оптимизации\n",
    "data = d3\n",
    "data['pres_raw_']=data['pres_raw__y']"
   ]
  },
  {
   "cell_type": "markdown",
   "metadata": {},
   "source": [
    "## Оптимизационная задача максимизации прибыли в два этапа"
   ]
  },
  {
   "cell_type": "code",
   "execution_count": 196,
   "metadata": {},
   "outputs": [],
   "source": [
    "# step 1: optimal allocation of cashboxes and postamats having alimitation on their quantities:\n",
    "#dum0<=N\n",
    "#dum1<=M\n",
    "#we respect switching costs of removing already existing postamats and cashboxes; switching costs of postamats lexicographically > costs for cashboxes\n",
    "def optimum(N,M,b0,b1,data):\n",
    "    X=data[['pres_raw_','dum0','dum1']].copy()\n",
    "    X['index']=[i for i in range(X.shape[0])]\n",
    "    X.sort_values('pres_raw_',axis=0,ascending=False,inplace=True)\n",
    "    X.set_index(pd.Index([i for i in range(X.shape[0])]),inplace=True)\n",
    "    \n",
    "    #dum0\n",
    "    opt=0\n",
    "    vmax=0\n",
    "    for i in range(1,1+min(X.shape[0],N+M)):\n",
    "        s=sum(X['pres_raw_'][X.index<i])\n",
    "        #print(s)\n",
    "        d0=min(i,N)\n",
    "        d1=min(i,M)\n",
    "        if s+d0*b0+d1*b1>=vmax:\n",
    "            opt=i\n",
    "            vmax=s+d0*b0+d1*b1\n",
    "    if opt>0:\n",
    "        s=sum(X['pres_raw_'][X.index<opt])\n",
    "        d0=min(opt,N)\n",
    "        d1=min(opt,M)\n",
    "        X['dum0_opt']=[0 for i in range(X.shape[0])]\n",
    "        X['dum1_opt']=[0 for i in range(X.shape[0])]\n",
    "      #dum0  \n",
    "        for i in range(opt):\n",
    "            #print('-',d0,X['dum0'][i],i)\n",
    "            if (d0>0) & (X['dum0'][i]==1):\n",
    "                d0-=1\n",
    "                X.iloc[i,4]=1\n",
    "                #print(i,d0)\n",
    "        for i in range(opt):\n",
    "            if (d0>0) & (X['dum1'][i]==0) & (X['dum0'][i]==0):\n",
    "                d0-=1\n",
    "                X.iloc[i,4]=1\n",
    "        for i in range(opt):\n",
    "            if (d0>0) & (X['dum0_opt'][i]==0):\n",
    "                d0-=1\n",
    "                X.iloc[i,4]=1\n",
    "     #dum1   \n",
    "        for i in range(opt):\n",
    "            if (d1>0) & (X['dum0_opt'][i]==0):\n",
    "                d1-=1\n",
    "                X.iloc[i,5]=1\n",
    "        for i in range(opt):\n",
    "            if (d1>0) & (X['dum1_opt'][i]==0) & (X['dum1'][i]==1):\n",
    "                d1-=1\n",
    "                X.iloc[i,5]=1\n",
    "        for i in range(opt):\n",
    "            if (d1>0) & (X['dum1_opt'][i]==0):\n",
    "                d1-=1\n",
    "                X.iloc[i,5]=1        \n",
    "                \n",
    "    X.sort_values('index',axis=0,ascending=True,inplace=True)\n",
    "    X.set_index(pd.Index([i for i in range(X.shape[0])]),inplace=True)    \n",
    "    return {'dat': X, 'max': vmax, 'opt':opt, 'd0':min(opt,N),'d1':min(opt,M)}\n",
    "\n",
    "#step 2: maximise profit П=pY*(N,M)-c1*N-*c2*M in (N,M)\n",
    "#b0, b1 are slopes  (use fitted.params['dum0'], fitted.params['dum1'])\n",
    "def max_profit(b0,b1,p,c1,c2,data):\n",
    "    x=data.shape[0]\n",
    "    opt=0\n",
    "    prev=-1\n",
    "    n0=0\n",
    "    n1=0\n",
    "    for i in range(0,x+1):\n",
    "        for j in range(0,x+1):\n",
    "            #print(i,j)\n",
    "            res=optimum(i,j,b0,b1,data)\n",
    "            #print('-',p*res['max']-c1*i-c2*j,opt,prev)\n",
    "            if p*res['max']-c1*i-c2*j>opt:\n",
    "                #print('if1')\n",
    "                opt=p*res['max']-c1*i-c2*j\n",
    "                n0=i\n",
    "                n1=j\n",
    "            if p*res['max']-c1*i-c2*j<=prev:\n",
    "                #print('if2')\n",
    "                break\n",
    "            else:\n",
    "                prev=p*res['max']-c1*i-c2*j\n",
    "        prev=-1\n",
    "    \n",
    "    res=optimum(n0,n1,b0,b1,data)\n",
    "    return {'opt':opt,'n0':n0,'n1':n1, 'allocation':res['dat']}"
   ]
  },
  {
   "cell_type": "code",
   "execution_count": 173,
   "metadata": {},
   "outputs": [],
   "source": [
    "c1=500/(1-(1+0.07)**(-1/12))\n",
    "p=50/(1-(1+0.07)**(-1/365))\n",
    "c0=65000\n",
    "b0=fitted.params['dum0']\n",
    "b1=fitted.params['dum1']"
   ]
  },
  {
   "cell_type": "code",
   "execution_count": 174,
   "metadata": {},
   "outputs": [],
   "source": [
    "res=max_profit(b0,b1,p,c0,c1,data)"
   ]
  },
  {
   "cell_type": "code",
   "execution_count": 175,
   "metadata": {},
   "outputs": [
    {
     "data": {
      "text/plain": [
       "{'opt': 243271680.09041786,\n",
       " 'n0': 417,\n",
       " 'n1': 0,\n",
       " 'allocation':      pres_raw_  dum0  dum1  index  dum0_opt  dum1_opt\n",
       " 0     1.978350     0     1      0         1         0\n",
       " 1     3.075253     0     0      1         1         0\n",
       " 2     2.023268     0     1      2         1         0\n",
       " 3     1.431668     1     1      3         1         0\n",
       " 4     1.849610     1     1      4         1         0\n",
       " ..         ...   ...   ...    ...       ...       ...\n",
       " 412  -0.898483     0     0    412         1         0\n",
       " 413  -0.906095     0     0    413         1         0\n",
       " 414  -0.941147     0     0    414         1         0\n",
       " 415  -1.110591     0     0    415         1         0\n",
       " 416  -0.904217     0     0    416         1         0\n",
       " \n",
       " [417 rows x 6 columns]}"
      ]
     },
     "execution_count": 175,
     "metadata": {},
     "output_type": "execute_result"
    }
   ],
   "source": [
    "res"
   ]
  },
  {
   "cell_type": "code",
   "execution_count": null,
   "metadata": {},
   "outputs": [],
   "source": []
  }
 ],
 "metadata": {
  "kernelspec": {
   "display_name": "Python 3",
   "language": "python",
   "name": "python3"
  },
  "language_info": {
   "codemirror_mode": {
    "name": "ipython",
    "version": 3
   },
   "file_extension": ".py",
   "mimetype": "text/x-python",
   "name": "python",
   "nbconvert_exporter": "python",
   "pygments_lexer": "ipython3",
   "version": "3.7.4"
  }
 },
 "nbformat": 4,
 "nbformat_minor": 2
}
